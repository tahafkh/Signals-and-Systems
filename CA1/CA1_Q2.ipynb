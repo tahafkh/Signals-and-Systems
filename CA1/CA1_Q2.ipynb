{
 "cells": [
  {
   "cell_type": "markdown",
   "metadata": {
    "collapsed": true,
    "pycharm": {
     "name": "#%% md\n"
    }
   },
   "source": [
    "# Signals and Systems CA1\n",
    "\n",
    "Question 2: Step and impulse responses for systems"
   ]
  },
  {
   "cell_type": "markdown",
   "source": [
    "# 1.1\n",
    "\n",
    "We calculate the impulse and step responses to the systems and then calculate it by numpy and plot them:"
   ],
   "metadata": {
    "collapsed": false,
    "pycharm": {
     "name": "#%% md\n"
    }
   }
  },
  {
   "cell_type": "markdown",
   "source": [
    "$$A: y[n] = \\frac{1}{2}(x[n] + x[n-1])$$\n",
    "\n",
    "Impulse response:\n",
    "$$h[n] = \\frac{1}{2}(\\delta[n] + \\delta[n-1]) \\Rightarrow h[1] = \\frac{1}{2}(0 + 1) = \\frac{1}{2}, h[0] = \\frac{1}{2}(1 + 0) = \\frac{1}{2}, \\forall n \\neq 0,1: h[n] = 0$$\n",
    "\n",
    "Step response:\n",
    "$$s[n] = \\Sigma_{k=-\\infty}^{n} h[k] \\Rightarrow s[0] = \\frac{1}{2}, s[1] = 1, \\forall n < 0: s[n] = 0, \\forall n > 1: s[n] = 1$$"
   ],
   "metadata": {
    "collapsed": false,
    "pycharm": {
     "name": "#%% md\n"
    }
   }
  },
  {
   "cell_type": "code",
   "execution_count": 15,
   "outputs": [
    {
     "data": {
      "text/plain": "<Figure size 432x288 with 1 Axes>",
      "image/png": "[encoded data removed]"
     },
     "metadata": {
      "needs_background": "light"
     },
     "output_type": "display_data"
    }
   ],
   "source": [
    "import numpy as np\n",
    "from matplotlib import pyplot as plt\n",
    "from scipy import signal as sig\n",
    "\n",
    "title = \"Figure of {} response for {}\"\n",
    "N = 100\n",
    "\n",
    "def draw(response, name,x_, y_):\n",
    "    plt.stem(x_, y_, use_line_collection=True)\n",
    "    plt.title(title.format(response, name))\n",
    "    plt.show()\n",
    "\n",
    "def impulse(n):\n",
    "    return np.piecewise(n, [n != 0, n == 0], [0, 1])\n",
    "x_samples = np.arange(0, 100, 1)\n",
    "\n",
    "def system1(n, x):\n",
    "    return (x(n)+x(n-1))/2\n",
    "\n",
    "y_samples = system1(x_samples, impulse)\n",
    "draw(\"Impulse\", \"A\", x_samples, y_samples)"
   ],
   "metadata": {
    "collapsed": false,
    "pycharm": {
     "name": "#%%\n"
    }
   }
  },
  {
   "cell_type": "markdown",
   "source": [
    "$$B: y[n] = x[n+1] - x[n]$$\n",
    "\n",
    "Impulse response:\n",
    "$$h[n] = delta[n+1] - \\delta[n] \\Rightarrow h[-1] = 1 - 0 = 1, h[0] = 0 - 1 = -1, \\forall n \\neq -1,0: h[n] = 0$$\n",
    "\n",
    "Step response:\n",
    "$$s[n] = \\Sigma_{k=-\\infty}^{n} h[k] \\Rightarrow s[-1] = 1, s[0] = -1 + 1 = 0 \\Rightarrow \\forall n \\neq -1: s[n] = 0$$"
   ],
   "metadata": {
    "collapsed": false
   }
  },
  {
   "cell_type": "code",
   "execution_count": 16,
   "outputs": [
    {
     "data": {
      "text/plain": "<Figure size 432x288 with 1 Axes>",
      "image/png": "[encoded data removed]"
     },
     "metadata": {
      "needs_background": "light"
     },
     "output_type": "display_data"
    }
   ],
   "source": [
    "def system2(n, x):\n",
    "    return x(n+1) - x(n)\n",
    "\n",
    "y_samples = system2(x_samples, impulse)\n",
    "draw(\"Impulse\", \"B\", x_samples, y_samples)"
   ],
   "metadata": {
    "collapsed": false,
    "pycharm": {
     "name": "#%%\n"
    }
   }
  },
  {
   "cell_type": "markdown",
   "source": [
    "\n",
    "$$C: y[n] = x[n+1] - 2x[n] + x[n-1]$$\n",
    "\n",
    "Impulse response:\n",
    "$$h[n] = delta[n+1] - 2\\delta[n] + \\delta[n-1]\\Rightarrow h[-1] = 1 - 0 + 0= 1, h[0] = 0 - 2 + 0 = -2, h[1] = 0 - 0 + 1 = 1\\forall n \\neq -1,0,1: h[n] = 0$$\n",
    "\n",
    "Step response:\n",
    "$$s[n] = \\Sigma_{k=-\\infty}^{n} h[k] \\Rightarrow s[-1] = 1, s[0] = -2 + 1 = -1, s[1] = 1 - 1 = 0 \\Rightarrow \\forall n \\neq -1, 0: s[n] = 0$$"
   ],
   "metadata": {
    "collapsed": false,
    "pycharm": {
     "name": "#%% md\n"
    }
   }
  },
  {
   "cell_type": "code",
   "execution_count": 17,
   "outputs": [
    {
     "data": {
      "text/plain": "<Figure size 432x288 with 1 Axes>",
      "image/png": "[encoded data removed]"
     },
     "metadata": {
      "needs_background": "light"
     },
     "output_type": "display_data"
    }
   ],
   "source": [
    "\n",
    "def system3(n, x):\n",
    "    return x(n+1) - 2*x(n) + x(n-1)\n",
    "\n",
    "y_samples = system3(x_samples, impulse)\n",
    "draw(\"Impulse\", \"C\", x_samples, y_samples)"
   ],
   "metadata": {
    "collapsed": false,
    "pycharm": {
     "name": "#%%\n"
    }
   }
  },
  {
   "cell_type": "markdown",
   "source": [
    "\n",
    "\n",
    "$$C: y[n] = \\Sigma_{m=0}^{19} cos(\\frac{\\pi m}{10})x[n-m]$$\n",
    "\n",
    "Impulse response:\n",
    "$$h[n] = \\Sigma_{m=0}^{19} cos(\\frac{\\pi m}{10})\\delta[n-m]\\Rightarrow \\forall n: 0 \\leq n \\leq 19: h[n] = cos(\\frac{\\pi n}{10}), O.W: h[n] = 0$$\n",
    "\n",
    "Step response:\n",
    "$$s[n] = \\Sigma_{k=-\\infty}^{n} h[k] \\Rightarrow$$\n",
    "\n",
    "$$\\forall n < 0: s[n] = 0, \\forall n: 0 \\leq n \\leq 19: s[n] = \\Sigma_{m=0}^{n} cos(\\frac{\\pi m}{10}), \\forall n > 19: s[n] = \\Sigma_{m=0}^{19} cos(\\frac{\\pi m}{10})$$"
   ],
   "metadata": {
    "collapsed": false,
    "pycharm": {
     "name": "#%% md\n"
    }
   }
  },
  {
   "cell_type": "code",
   "execution_count": null,
   "outputs": [],
   "source": [],
   "metadata": {
    "collapsed": false,
    "pycharm": {
     "name": "#%%\n"
    }
   }
  }
 ],
 "metadata": {
  "kernelspec": {
   "display_name": "Python 3",
   "language": "python",
   "name": "python3"
  },
  "language_info": {
   "codemirror_mode": {
    "name": "ipython",
    "version": 2
   },
   "file_extension": ".py",
   "mimetype": "text/x-python",
   "name": "python",
   "nbconvert_exporter": "python",
   "pygments_lexer": "ipython2",
   "version": "2.7.6"
  }
 },
 "nbformat": 4,
 "nbformat_minor": 0
}