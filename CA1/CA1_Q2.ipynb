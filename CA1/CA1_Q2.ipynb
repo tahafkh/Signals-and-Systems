{
 "cells": [
  {
   "cell_type": "markdown",
   "metadata": {
    "collapsed": true,
    "pycharm": {
     "name": "#%% md\n"
    }
   },
   "source": [
    "# Signals and System CA1\n",
    "\n",
    "Question 2: Step and impulse responses for systems"
   ]
  },
  {
   "cell_type": "markdown",
   "source": [
    "# 1.1\n",
    "\n",
    "We calculate the impulse and step responses to the systems and then calculate it by numpy and plot them:"
   ],
   "metadata": {
    "collapsed": false,
    "pycharm": {
     "name": "#%% md\n"
    }
   }
  },
  {
   "cell_type": "markdown",
   "source": [
    "$$A: y[n] = \\frac{1}{2}(x[n] + x[n-1])$$\n",
    "\n",
    "Impulse response:\n",
    "$$h[n] = \\frac{1}{2}(\\delta[n] + \\delta[n-1]) \\Rightarrow h[1] = \\frac{1}{2}(0 + 1) = \\frac{1}{2}, h[0] = \\frac{1}{2}(1 + 0) = \\frac{1}{2}, \\forall n \\neq 0,1: h[n] = 0$$\n",
    "\n",
    "Step response:\n",
    "$$s[n] = \\Sigma_{k=-\\infty}^{n} h[k] \\Rightarrow s[0] = \\frac{1}{2}, s[1] = 1, \\forall n < 0: s[n] = 0, \\forall n > 1: s[n] = 1$$"
   ],
   "metadata": {
    "collapsed": false,
    "pycharm": {
     "name": "#%% md\n"
    }
   }
  },
  {
   "cell_type": "code",
   "execution_count": null,
   "outputs": [],
   "source": [
    "import numpy as np\n",
    "from matplotlib import pyplot as plt\n",
    "from scipy import signal as sig\n",
    "\n",
    "N = 100\n",
    "def impulse(n, k):\n",
    "    return np.piecewise(n, [n != k, n == k], [0, 1])\n",
    "\n",
    "impulse"
   ],
   "metadata": {
    "collapsed": false,
    "pycharm": {
     "name": "#%%\n"
    }
   }
  }
 ],
 "metadata": {
  "kernelspec": {
   "display_name": "Python 3",
   "language": "python",
   "name": "python3"
  },
  "language_info": {
   "codemirror_mode": {
    "name": "ipython",
    "version": 2
   },
   "file_extension": ".py",
   "mimetype": "text/x-python",
   "name": "python",
   "nbconvert_exporter": "python",
   "pygments_lexer": "ipython2",
   "version": "2.7.6"
  }
 },
 "nbformat": 4,
 "nbformat_minor": 0
}